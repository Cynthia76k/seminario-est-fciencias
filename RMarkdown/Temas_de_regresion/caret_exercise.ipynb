{
  "cells": [
    {
      "cell_type": "markdown",
      "source": [
        "# Uso del paquete CARET"
      ],
      "metadata": {}
    },
    {
      "cell_type": "code",
      "source": [
        "#Loading caret package\n",
        "library(\"caret\")\n",
        "\n",
        "#Loading training data\n",
        "train<-read.csv(\"train_u6lujuX_CVtuZ9i.csv\",stringsAsFactors = T)\n",
        "\n",
        "#Looking at the structure of caret package.\n",
        "str(train)\n",
        "#'data.frame':         614 obs. of  13 variables:\n",
        "#$ Loan_ID          : Factor w/ 614 levels \"LP001002\",\"LP001003\",..: 1 2 3 4 5 6 7 8 9 #10 ..\n",
        "#$ Gender           : Factor w/ 3 levels \"\",\"Female\",\"Male\": 3 3 3 3 3 3 3 3 3 3 ...\n",
        "#$ Married          : Factor w/ 3 levels \"\",\"No\",\"Yes\": 2 3 3 3 2 3 3 3 3 3 ...\n",
        "#$ Dependents       : Factor w/ 5 levels \"\",\"0\",\"1\",\"2\",..: 2 3 2 2 2 4 2 5 4 3 ...\n",
        "#$ Education        : Factor w/ 2 levels \"Graduate\",\"Not Graduate\": 1 1 1 2 1 1 2 1 1 #1 ...\n",
        "#$ Self_Employed    : Factor w/ 3 levels \"\",\"No\",\"Yes\": 2 2 3 2 2 3 2 2 2 2 ...\n",
        "#$ ApplicantIncome  : int  5849 4583 3000 2583 6000 5417 2333 3036 4006 12841 #...\n",
        "#$ CoapplicantIncome: num  0 1508 0 2358 0 ...\n",
        "#$ LoanAmount       : int  NA 128 66 120 141 267 95 158 168 349 ...\n",
        "#$ Loan_Amount_Term : int  360 360 360 360 360 360 360 360 360 360 ...\n",
        "#$ Credit_History   : int  1 1 1 1 1 1 1 0 1 1 ...\n",
        "#$ Property_Area    : Factor w/ 3 levels \"Rural\",\"Semiurban\",..: 3 1 3 3 3 3 3 2 3 2 #...\n",
        "#$ Loan_Status      : Factor w/ 2 levels \"N\",\"Y\": 2 1 2 2 2 2 2 1 2 1 ..."
      ],
      "outputs": [],
      "execution_count": null,
      "metadata": {
        "collapsed": false,
        "outputHidden": false,
        "inputHidden": false
      }
    },
    {
      "cell_type": "code",
      "source": [
        "#Imputing missing values using KNN.Also centering and scaling numerical columns\n",
        "preProcValues <- preProcess(train, method = c(\"knnImpute\",\"center\",\"scale\"))\n",
        "\n",
        "library('RANN')\n",
        "train_processed <- predict(preProcValues, train)\n",
        "sum(is.na(train_processed))\n",
        "#[1] 0"
      ],
      "outputs": [],
      "execution_count": null,
      "metadata": {
        "collapsed": false,
        "outputHidden": false,
        "inputHidden": false
      }
    },
    {
      "cell_type": "code",
      "source": [
        "#Converting outcome variable to numeric\n",
        "train_processed$Loan_Status<-ifelse(train_processed$Loan_Status=='N',0,1)\n",
        "\n",
        "id<-train_processed$Loan_ID\n",
        "train_processed$Loan_ID<-NULL\n",
        "\n",
        "#Checking the structure of processed train file\n",
        "str(train_processed)\n",
        "#'data.frame':         614 obs. of  12 variables:\n",
        "#$ Gender           : Factor w/ 3 levels \"\",\"Female\",\"Male\": 3 3 3 3 3 3 3 3 3 3 ...\n",
        "#$ Married          : Factor w/ 3 levels \"\",\"No\",\"Yes\": 2 3 3 3 2 3 3 3 3 3 ...\n",
        "#$ Dependents       : Factor w/ 5 levels \"\",\"0\",\"1\",\"2\",..: 2 3 2 2 2 4 2 5 4 3 ...\n",
        "#$ Education        : Factor w/ 2 levels \"Graduate\",\"Not Graduate\": 1 1 1 2 1 1 2 1 1 #1 ...\n",
        "#$ Self_Employed    : Factor w/ 3 levels \"\",\"No\",\"Yes\": 2 2 3 2 2 3 2 2 2 2 ...\n",
        "#$ ApplicantIncome  : num  0.0729 -0.1343 -0.3934 -0.4617 0.0976 ...\n",
        "#$ CoapplicantIncome: num  -0.554 -0.0387 -0.554 0.2518 -0.554 ...\n",
        "#$ LoanAmount       : num  0.0162 -0.2151 -0.9395 -0.3086 -0.0632 ...\n",
        "#$ Loan_Amount_Term : num  0.276 0.276 0.276 0.276 0.276 ...\n",
        "#$ Credit_History   : num  0.432 0.432 0.432 0.432 0.432 ...\n",
        "#$ Property_Area    : Factor w/ 3 levels \"Rural\",\"Semiurban\",..: 3 1 3 3 3 3 3 2 3 2 #...\n",
        "#$ Loan_Status      : num  1 0 1 1 1 1 1 0 1 0 ..."
      ],
      "outputs": [],
      "execution_count": null,
      "metadata": {
        "collapsed": false,
        "outputHidden": false,
        "inputHidden": false
      }
    },
    {
      "cell_type": "code",
      "source": [
        "#Converting every categorical variable to numerical using dummy variables\n",
        "dmy <- dummyVars(\" ~ .\", data = train_processed,fullRank = T)\n",
        "train_transformed <- data.frame(predict(dmy, newdata = train_processed))\n",
        "\n",
        "#Checking the structure of transformed train file\n",
        "str(train_transformed)\n",
        "#'data.frame':         614 obs. of  19 variables:\n",
        "#$ Gender.Female          : num  0 0 0 0 0 0 0 0 0 0 ...\n",
        "#$ Gender.Male            : num  1 1 1 1 1 1 1 1 1 1 ...\n",
        "#$ Married.No             : num  1 0 0 0 1 0 0 0 0 0 ...\n",
        "#$ Married.Yes            : num  0 1 1 1 0 1 1 1 1 1 ...\n",
        "#$ Dependents.0           : num  1 0 1 1 1 0 1 0 0 0 ...\n",
        "#$ Dependents.1           : num  0 1 0 0 0 0 0 0 0 1 ...\n",
        "#$ Dependents.2           : num  0 0 0 0 0 1 0 0 1 0 ...\n",
        "#$ Dependents.3.          : num  0 0 0 0 0 0 0 1 0 0 ...\n",
        "#$ Education.Not.Graduate : num  0 0 0 1 0 0 1 0 0 0 ...\n",
        "#$ Self_Employed.No       : num  1 1 0 1 1 0 1 1 1 1 ...\n",
        "#$ Self_Employed.Yes      : num  0 0 1 0 0 1 0 0 0 0 ...\n",
        "#$ ApplicantIncome        : num  0.0729 -0.1343 -0.3934 -0.4617 0.0976 ...\n",
        "#$ CoapplicantIncome      : num  -0.554 -0.0387 -0.554 0.2518 -0.554 ...\n",
        "#$ LoanAmount             : num  0.0162 -0.2151 -0.9395 -0.3086 -0.0632 ...\n",
        "#$ Loan_Amount_Term       : num  0.276 0.276 0.276 0.276 0.276 ...\n",
        "#$ Credit_History         : num  0.432 0.432 0.432 0.432 0.432 ...\n",
        "#$ Property_Area.Semiurban: num  0 0 0 0 0 0 0 1 0 1 ...\n",
        "#$ Property_Area.Urban    : num  1 0 1 1 1 1 1 0 1 0 ...\n",
        "#$ Loan_Status            : num  1 0 1 1 1 1 1 0 1 0 ...\n",
        "\n",
        "#Converting the dependent variable back to categorical\n",
        "train_transformed$Loan_Status<-as.factor(train_transformed$Loan_Status)"
      ],
      "outputs": [],
      "execution_count": null,
      "metadata": {
        "collapsed": false,
        "outputHidden": false,
        "inputHidden": false
      }
    },
    {
      "cell_type": "code",
      "source": [
        "#Spliting training set into two parts based on outcome: 75% and 25%\n",
        "index <- createDataPartition(train_transformed$Loan_Status, p=0.75, list=FALSE)\n",
        "trainSet <- train_transformed[ index,]\n",
        "testSet <- train_transformed[-index,]\n",
        "\n",
        "#Checking the structure of trainSet\n",
        "str(trainSet)\n",
        "#'data.frame':         461 obs. of  19 variables:\n",
        "#$ Gender.Female          : num  0 0 0 0 0 0 0 0 0 0 ...\n",
        "#$ Gender.Male            : num  1 1 1 1 1 1 1 1 1 1 ...\n",
        "#$ Married.No             : num  1 0 0 0 1 0 0 0 0 0 ...\n",
        "#$ Married.Yes            : num  0 1 1 1 0 1 1 1 1 1 ...\n",
        "#$ Dependents.0           : num  1 0 1 1 1 0 1 0 0 0 ...\n",
        "#$ Dependents.1           : num  0 1 0 0 0 0 0 0 1 0 ...\n",
        "#$ Dependents.2           : num  0 0 0 0 0 1 0 0 0 1 ...\n",
        "#$ Dependents.3.          : num  0 0 0 0 0 0 0 1 0 0 ...\n",
        "#$ Education.Not.Graduate : num  0 0 0 1 0 0 1 0 0 0 ...\n",
        "#$ Self_Employed.No       : num  1 1 0 1 1 0 1 1 1 1 ...\n",
        "#$ Self_Employed.Yes      : num  0 0 1 0 0 1 0 0 0 0 ...\n",
        "#$ ApplicantIncome        : num  0.0729 -0.1343 -0.3934 -0.4617 0.0976 ...\n",
        "#$ CoapplicantIncome      : num  -0.554 -0.0387 -0.554 0.2518 -0.554 ...\n",
        "#$ LoanAmount             : num  0.0162 -0.2151 -0.9395 -0.3086 -0.0632 ...\n",
        "#$ Loan_Amount_Term       : num  0.276 0.276 0.276 0.276 0.276 ...\n",
        "#$ Credit_History         : num  0.432 0.432 0.432 0.432 0.432 ...\n",
        "#$ Property_Area.Semiurban: num  0 0 0 0 0 0 0 1 1 0 ...\n",
        "#$ Property_Area.Urban    : num  1 0 1 1 1 1 1 0 0 1 ...\n",
        "#$ Loan_Status            : Factor w/ 2 levels \"0\",\"1\": 2 1 2 2 2 2 2 1 1 2 ..."
      ],
      "outputs": [],
      "execution_count": null,
      "metadata": {
        "collapsed": false,
        "outputHidden": false,
        "inputHidden": false
      }
    },
    {
      "cell_type": "code",
      "source": [
        "#Feature selection using rfe in caret\n",
        "control <- rfeControl(functions = rfFuncs,\n",
        "                   method = \"repeatedcv\",\n",
        "                   repeats = 3,\n",
        "                   verbose = FALSE)\n",
        "outcomeName<-'Loan_Status'\n",
        "predictors<-names(trainSet)[!names(trainSet) %in% outcomeName]\n",
        "Loan_Pred_Profile <- rfe(trainSet[,predictors], trainSet[,outcomeName],\n",
        "                      rfeControl = control)\n",
        "Loan_Pred_Profile\n",
        "#Recursive feature selection\n",
        "#Outer resampling method: Cross-Validated (10 fold, repeated 3 times)\n",
        "#Resampling performance over subset size:\n",
        "#  Variables Accuracy  Kappa AccuracySD KappaSD Selected\n",
        "#4   0.7737 0.4127    0.03707 0.09962        \n",
        "#8   0.7874 0.4317    0.03833 0.11168        \n",
        "#16   0.7903 0.4527    0.04159 0.11526        \n",
        "#18   0.7882 0.4431    0.03615 0.10812        \n",
        "#The top 5 variables (out of 16):\n",
        "#  Credit_History, LoanAmount, Loan_Amount_Term, ApplicantIncome, CoapplicantIncome\n",
        "#Taking only the top 5 predictors\n",
        "predictors<-c(\"Credit_History\", \"LoanAmount\", \"Loan_Amount_Term\", \"ApplicantIncome\", \"CoapplicantIncome\")"
      ],
      "outputs": [],
      "execution_count": null,
      "metadata": {
        "collapsed": false,
        "outputHidden": false,
        "inputHidden": false
      }
    },
    {
      "cell_type": "code",
      "source": [
        "model_gbm<-train(trainSet[,predictors],trainSet[,outcomeName],method='gbm')\n",
        "model_rf<-train(trainSet[,predictors],trainSet[,outcomeName],method='rf')\n",
        "model_nnet<-train(trainSet[,predictors],trainSet[,outcomeName],method='nnet')\n",
        "model_glm<-train(trainSet[,predictors],trainSet[,outcomeName],method='glm')"
      ],
      "outputs": [],
      "execution_count": null,
      "metadata": {
        "collapsed": false,
        "outputHidden": false,
        "inputHidden": false
      }
    },
    {
      "cell_type": "code",
      "source": [
        "fitControl <- trainControl(\n",
        "  method = \"repeatedcv\",\n",
        "  number = 5,\n",
        "  repeats = 5)"
      ],
      "outputs": [],
      "execution_count": null,
      "metadata": {
        "collapsed": false,
        "outputHidden": false,
        "inputHidden": false
      }
    },
    {
      "cell_type": "code",
      "source": [
        "modelLookup(model='gbm')\n",
        "\n",
        "#model         parameter                   label forReg forClass probModel\n",
        "#1   gbm           n.trees   # Boosting Iterations   TRUE     TRUE      TRUE\n",
        "#2   gbm interaction.depth          Max Tree Depth   TRUE     TRUE      TRUE\n",
        "#3   gbm         shrinkage               Shrinkage   TRUE     TRUE      TRUE\n",
        "#4   gbm    n.minobsinnode Min. Terminal Node Size   TRUE     TRUE      TRUE\n",
        "#using grid search\n",
        "\n",
        "#Creating grid\n",
        "grid <- expand.grid(n.trees=c(10,20,50,100,500,1000),shrinkage=c(0.01,0.05,0.1,0.5),n.minobsinnode = c(3,5,10),interaction.depth=c(1,5,10))\n",
        "\n",
        "# training the model\n",
        "model_gbm<-train(trainSet[,predictors],trainSet[,outcomeName],method='gbm',trControl=fitControl,tuneGrid=grid)\n",
        "\n",
        "# summarizing the model\n",
        "print(model_gbm)\n",
        "\n",
        "#Stochastic Gradient Boosting\n",
        "#461 samples\n",
        "#5 predictor\n",
        "#2 classes: '0', '1'\n",
        "\n",
        "#No pre-processing\n",
        "#Resampling: Cross-Validated (5 fold, repeated 5 times)\n",
        "#Summary of sample sizes: 368, 370, 369, 369, 368, 369, ...\n",
        "#Resampling results across tuning parameters:\n",
        "\n",
        "#  shrinkage  interaction.depth  n.minobsinnode  n.trees  Accuracy   Kappa   \n",
        "#0.01        1                  3                10     0.6876416  0.0000000\n",
        "#0.01        1                  3                20     0.6876416  0.0000000\n",
        "#0.01        1                  3                50     0.7982345  0.4423609\n",
        "#0.01        1                  3               100     0.7952190  0.4364383\n",
        "#0.01        1                  3               500     0.7904882  0.4342300\n",
        "#0.01        1                  3              1000     0.7913627  0.4421230\n",
        "#0.01        1                  5                10     0.6876416  0.0000000\n",
        "#0.01        1                  5                20     0.6876416  0.0000000\n",
        "#0.01        1                  5                50     0.7982345  0.4423609\n",
        "#0.01        1                  5               100     0.7943635  0.4351912\n",
        "#0.01        1                  5               500     0.7930783  0.4411348\n",
        "#0.01        1                  5              1000     0.7913720  0.4417463\n",
        "#0.01        1                 10                10     0.6876416  0.0000000\n",
        "#0.01        1                 10                20     0.6876416  0.0000000\n",
        "#0.01        1                 10                50     0.7982345  0.4423609\n",
        "#0.01        1                 10               100     0.7943635  0.4351912\n",
        "#0.01        1                 10               500     0.7939525  0.4426503\n",
        "#0.01        1                 10              1000     0.7948362  0.4476742\n",
        "#0.01        5                  3                10     0.6876416  0.0000000\n",
        "#0.01        5                  3                20     0.6876416  0.0000000\n",
        "#0.01        5                  3                50     0.7960556  0.4349571\n",
        "#0.01        5                  3               100     0.7934987  0.4345481\n",
        "#0.01        5                  3               500     0.7775055  0.4147204\n",
        "#...\n",
        "#0.50        5                 10               100     0.7045617  0.2834696\n",
        "#0.50        5                 10               500     0.6924480  0.2650477\n",
        "#0.50        5                 10              1000     0.7115234  0.3050953\n",
        "#0.50       10                  3                10     0.7389117  0.3681917\n",
        "#0.50       10                  3                20     0.7228519  0.3317001\n",
        "#0.50       10                  3                50     0.7180833  0.3159445\n",
        "#0.50       10                  3               100     0.7172417  0.3189655\n",
        "#0.50       10                  3               500     0.7058472  0.3098146\n",
        "#0.50       10                  3              1000     0.7001852  0.2967784\n",
        "#0.50       10                  5                10     0.7266895  0.3378430\n",
        "#0.50       10                  5                20     0.7154746  0.3197905\n",
        "#0.50       10                  5                50     0.7063535  0.2984819\n",
        "#0.50       10                  5               100     0.7151012  0.3141440\n",
        "#0.50       10                  5               500     0.7108516  0.3146822\n",
        "#0.50       10                  5              1000     0.7147320  0.3225373\n",
        "#0.50       10                 10                10     0.7314871  0.3327504\n",
        "#0.50       10                 10                20     0.7150814  0.3081869\n",
        "#0.50       10                 10                50     0.6993723  0.2815981\n",
        "#0.50       10                 10               100     0.6977416  0.2719140\n",
        "#0.50       10                 10               500     0.7037864  0.2854748\n",
        "#0.50       10                 10              1000     0.6995610  0.2869718"
      ],
      "outputs": [],
      "execution_count": null,
      "metadata": {
        "collapsed": false,
        "outputHidden": false,
        "inputHidden": false
      }
    },
    {
      "cell_type": "code",
      "source": [
        "#using tune length\n",
        "model_gbm<-train(trainSet[,predictors],trainSet[,outcomeName],method='gbm',trControl=fitControl,tuneLength=10)\n",
        "print(model_gbm)\n",
        "\n",
        "#Stochastic Gradient Boosting\n",
        "#461 samples\n",
        "#5 predictor\n",
        "#2 classes: '0', '1'\n",
        "\n",
        "#No pre-processing\n",
        "#Resampling: Cross-Validated (5 fold, repeated 5 times)\n",
        "#Summary of sample sizes: 368, 369, 369, 370, 368, 369, ...\n",
        "#Resampling results across tuning parameters:\n",
        "\n",
        "#  interaction.depth  n.trees  Accuracy   Kappa   \n",
        "#1                  50      0.7978084  0.4541008\n",
        "#1                 100      0.7978177  0.4566764\n",
        "#1                 150      0.7934792  0.4472347\n",
        "#1                 200      0.7904310  0.4424091\n",
        "#1                 250      0.7869714  0.4342797\n",
        "#1                 300      0.7830488  0.4262414\n",
        "...\n",
        "#10                 100      0.7575230  0.3860319\n",
        "#10                 150      0.7479757  0.3719707\n",
        "#10                 200      0.7397290  0.3566972\n",
        "#10                 250      0.7397285  0.3561990\n",
        "#10                 300      0.7362552  0.3513413\n",
        "#10                 350      0.7340812  0.3453415\n",
        "#10                 400      0.7336416  0.3453117\n",
        "#10                 450      0.7306027  0.3415153\n",
        "#10                 500      0.7253854  0.3295929"
      ],
      "outputs": [],
      "execution_count": null,
      "metadata": {
        "collapsed": false,
        "outputHidden": false,
        "inputHidden": false
      }
    },
    {
      "cell_type": "code",
      "source": [
        "#Checking variable importance for GLM\n",
        "varImp(object=model_glm)\n",
        "#glm variable importance\n",
        "\n",
        "#Overall\n",
        "#Credit_History    100.000\n",
        "#CoapplicantIncome  17.218\n",
        "#Loan_Amount_Term   12.988\n",
        "#LoanAmount          5.632\n",
        "#ApplicantIncome     0.000\n",
        "\n",
        "#Plotting Variable importance for GLM\n",
        "plot(varImp(object=model_glm),main=\"GLM - Variable Importance\")"
      ],
      "outputs": [],
      "execution_count": null,
      "metadata": {
        "collapsed": false,
        "outputHidden": false,
        "inputHidden": false
      }
    },
    {
      "cell_type": "code",
      "source": [
        "#Predictions\n",
        "predictions<-predict.train(object=model_gbm,testSet[,predictors],type=\"raw\")\n",
        "table(predictions)\n",
        "#predictions\n",
        "#0   1\n",
        "#28 125"
      ],
      "outputs": [],
      "execution_count": null,
      "metadata": {
        "collapsed": false,
        "outputHidden": false,
        "inputHidden": false
      }
    },
    {
      "cell_type": "code",
      "source": [
        "confusionMatrix(predictions,testSet[,outcomeName])\n",
        "#Confusion Matrix and Statistics\n",
        "#Reference\n",
        "#Prediction   0   1\n",
        "#0  25   3\n",
        "#1  23 102\n",
        "\n",
        "#Accuracy : 0.8301        \n",
        "#95% CI : (0.761, 0.8859)\n",
        "#No Information Rate : 0.6863        \n",
        "#P-Value [Acc > NIR] : 4.049e-05     \n",
        "#Kappa : 0.555         \n",
        "#Mcnemar's Test P-Value : 0.0001944     \n",
        "#Sensitivity : 0.5208        \n",
        "#Specificity : 0.9714        \n",
        "#Pos Pred Value : 0.8929\n",
        "#Neg Pred Value : 0.8160        \n",
        "#Prevalence : 0.3137        \n",
        "#Detection Rate : 0.1634        \n",
        "#Detection Prevalence : 0.1830        \n",
        "#Balanced Accuracy : 0.7461        \n",
        "#'Positive' Class : 0"
      ],
      "outputs": [],
      "execution_count": null,
      "metadata": {
        "collapsed": false,
        "outputHidden": false,
        "inputHidden": false
      }
    },
    {
      "cell_type": "markdown",
      "source": [
        "# Preguntas para regresión"
      ],
      "metadata": {}
    },
    {
      "cell_type": "markdown",
      "source": [
        "Supongamos que tenemos un conjunto de datos con 5 variables en el espacio $\\mathcal{X}$: $X_1=GPA, \\ X_2=IQ, \\ X_3=Genero, \\ X_4=Interacción \\ X_1*X_3, \\ X_5=Interacción \\ X_1*X_3$. \n",
        "\n",
        "La variable dependiente es el primer salario después de graduarse.\n",
        "\n",
        "Sopongamos que ajustamos un modelo de regresión lineal y obtenemos: \n",
        "- $\\beta_0=50$\n",
        "- $\\beta_1=20$\n",
        "- $\\beta_2=0.07$\n",
        "- $\\beta_3=35$\n",
        "- $\\beta_4=0.01$\n",
        "- $\\beta_5=-10$\n",
        "\n",
        "1. ¿Cuál de las siguientes es correcta y por qué?\n",
        "\n",
        "    1.1 Para valores fijos de IQ y GPA, los hombres ganan, en promedio, más que las mujeres.\n",
        "    \n",
        "    1.2 Para valores fijos de IQ y GPA, las mujeres ganan, en promedio, más que los hombres.\n",
        "    \n",
        "    1.3 Para valores fijos de IQ y GPA, los hombres ganan, en promedio, más que las mujeres siempre que el GPA sea suficientemente alto.\n",
        "    \n",
        "    1.4 Para valores fijos de IQ y GPA, las mujeres ganan, en promedio, más que los hombres siempre que el GPA sea suficientemente alto.\n",
        "\n",
        "2. Prediga el salario de una mujer con IQ de 110 y GPA de 4.0\n",
        "\n3. Dado que la beta de la interacción GPA/IQ es muy pequeña, no hay evidencia que sostenga que la interacción existe (Cierto/Falso)"
      ],
      "metadata": {}
    },
    {
      "cell_type": "markdown",
      "source": [
        "Considere una regresión lineal sin intercepto, es decir $$y_i=x_i\\beta$$\n",
        "con $$\\beta=\\sum_{i=1}^nx_iy_i/(\\sum_{i'=1}^nx_{i'}^2)$$\n",
        "Muestres que podemos escribir: $$y_i = \\sum_{i'=1}^na_{i'}y_{i'}$$\n",
        "¿Quién es $a_{i'}$"
      ],
      "metadata": {}
    },
    {
      "cell_type": "markdown",
      "source": [
        "Pruebe que en el caso de regresión lineal simple, la $R^2$ es igual al cuadrado de la correlación entre $x$ y $y$"
      ],
      "metadata": {}
    },
    {
      "cell_type": "markdown",
      "source": [
        "La siguiente tabla corresponde a la salida de un modelo de regresión con el cual se busca explicar ventas con inversiones en marketing en TV, radio y periódicos.\n",
        "\n",
        "| | Coefficient | Std. error | t-statistic | p-value |\n",
        "|:------:|:------:|:------:|:------:|:------:|\n",
        "| Intercept | 2.939 |0.3119| 9.42| < 0.0001|\n",
        "|TV |0.046 |0.0014 |32.81 |< 0.0001|\n",
        "|radio |0.189 |0.0086 |21.89 |< 0.0001|\n",
        "newspaper| −0.001 |0.0059 |−0.18 |0.8599|\n",
        "\nDescriba la hipótesis nula que se realiza. Explique que conclusiones puede obtener basado en la tabla (la explicación no debe ser técnica)."
      ],
      "metadata": {}
    },
    {
      "cell_type": "markdown",
      "source": [
        "Para el modelo de regresión logística pruebe que si: $$p(X)=\\frac{e^{\\beta_0+\\beta_1X}}{1+e^{\\beta_0+\\beta_1X}}$$\n",
        "entonces: $$\\frac{p(X)}{1-p(X)}=e^{\\beta_0+\\beta_1X}$$"
      ],
      "metadata": {}
    },
    {
      "cell_type": "markdown",
      "source": [
        "Suponga que recolectamos datos para un grupo de estudiantes de una clase del seminario de estadística y medimos $X_1=horas \\ de\\ estudio, \\ X_2=promedio, \\ Y = sacará \\ 10$. Ajustamos un modelo de regresión logística y obtenemos:\n",
        "- $\\beta_0=-6$\n",
        "- $\\beta_1=0.05$\n",
        "- $\\beta_2=1$\n",
        "\n",
        "1. Estime la probabilidad de que un estudiante que estudia 40horas y tiene promedio de 9 obtenga 10 en la clase\n",
        "2. ¿Cuántas horas necesita estudiar el alumno anterior para tener buena probabilidad de sacar 10 en la clase?"
      ],
      "metadata": {}
    },
    {
      "cell_type": "markdown",
      "source": [
        "Este ejercicio debe hacerse con los datos _Weekly_ del paquete `ISLR`.\n",
        "\n",
        "1. Haga descriptivos, comente.\n",
        "2. Ajuste una regresión logística con $y=Direction$ y las 5 variables _lag_ + Volume como el espacio $\\mathcal{X}$, comente\n",
        "3. Ajuste un modelo de regresión logística usando el periodo 1990-2008 como conjunto de entrenamiento y usando Lag2 como la única variable del espacio $\\mathcal{X}$, prediga y evalue los resultados para el periodo 2009-2010, comente"
      ],
      "metadata": {}
    }
  ],
  "metadata": {
    "kernel_info": {
      "name": "ir"
    },
    "language_info": {
      "name": "R",
      "codemirror_mode": "r",
      "pygments_lexer": "r",
      "mimetype": "text/x-r-source",
      "file_extension": ".r",
      "version": "3.6.2"
    },
    "kernelspec": {
      "name": "ir",
      "language": "R",
      "display_name": "R"
    },
    "nteract": {
      "version": "0.12.3"
    }
  },
  "nbformat": 4,
  "nbformat_minor": 4
}