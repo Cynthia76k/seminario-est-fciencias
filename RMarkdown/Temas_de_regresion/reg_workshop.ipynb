{
  "cells": [
    {
      "cell_type": "markdown",
      "source": [
        "# Regression Workshop"
      ],
      "metadata": {}
    },
    {
      "cell_type": "markdown",
      "source": [
        "Usaremos datos que contienen información sobre área quemada durante incendios forestales en Portugal."
      ],
      "metadata": {
        "collapsed": false,
        "outputHidden": false,
        "inputHidden": false
      }
    },
    {
      "cell_type": "markdown",
      "source": [
        "### Fine Fuel Moisture Code\n",
        "The Fine Fuel Moisture Code (FFMC) is a numeric rating of the moisture content of litter and other cured fine fuels. This code is an indicator of the relative ease of ignition and the flammability of fine fuel.\n",
        "\n",
        "### Duff Moisture Code\n",
        "The Duff Moisture Code (DMC) is a numeric rating of the average moisture content of loosely compacted organic layers of moderate depth. This code gives an indication of fuel consumption in moderate duff layers and medium-size woody material.\n",
        "\n",
        "### Drought Code\n",
        "The Drought Code (DC) is a numeric rating of the average moisture content of deep, compact organic layers. This code is a useful indicator of seasonal drought effects on forest fuels and the amount of smoldering in deep duff layers and large logs.\n",
        "\n",
        "### Initial Spread Index\n",
        "The Initial Spread Index (ISI) is a numeric rating of the expected rate of fire spread. It combines the effects of wind and the FFMC on rate of spread without the influence of variable quantities of fuel."
      ],
      "metadata": {}
    },
    {
      "cell_type": "code",
      "source": [
        "library(dplyr)\n",
        "library(corrplot)\n",
        "library(ggplot2)\n",
        "library(unam.theme)\n",
        "library(manipulate)\n",
        "library(rlang)\n",
        "library(mlbench)\n",
        "library(caret)"
      ],
      "outputs": [],
      "execution_count": null,
      "metadata": {
        "collapsed": false,
        "outputHidden": false,
        "inputHidden": false
      }
    },
    {
      "cell_type": "code",
      "source": [
        "datos <- read.csv(\"forestfires.csv\")"
      ],
      "outputs": [],
      "execution_count": null,
      "metadata": {}
    },
    {
      "cell_type": "code",
      "source": [
        "dplyr::glimpse(datos)"
      ],
      "outputs": [],
      "execution_count": null,
      "metadata": {}
    },
    {
      "cell_type": "code",
      "source": [
        "summary(datos)"
      ],
      "outputs": [],
      "execution_count": null,
      "metadata": {
        "collapsed": false,
        "outputHidden": false,
        "inputHidden": false
      }
    },
    {
      "cell_type": "code",
      "source": [
        "corrplot::corrplot(cor(datos[,-c(3,4)]), method = \"number\")"
      ],
      "outputs": [],
      "execution_count": null,
      "metadata": {
        "collapsed": false,
        "outputHidden": false,
        "inputHidden": false
      }
    },
    {
      "cell_type": "code",
      "source": [
        "datos$month <- factor(datos$month, levels = c(\"jan\", \"feb\", \"mar\", \"apr\", \"may\", \"jun\", \"jul\", \"aug\", \"sep\", \"oct\", \"nov\", \"dec\"))\n",
        "datos$day <- factor(datos$day, levels = c(\"sun\", \"mon\", \"tue\", \"wed\", \"thu\", \"fri\", \"sat\"))"
      ],
      "outputs": [],
      "execution_count": null,
      "metadata": {
        "collapsed": false,
        "outputHidden": false,
        "inputHidden": false
      }
    },
    {
      "cell_type": "code",
      "source": [
        "ggplot(datos)+\n",
        "  geom_bar(aes(month))+\n",
        "  theme_unam()"
      ],
      "outputs": [],
      "execution_count": null,
      "metadata": {
        "collapsed": false,
        "outputHidden": false,
        "inputHidden": false
      }
    },
    {
      "cell_type": "code",
      "source": [
        "ggplot(datos)+\n",
        "  geom_bar(aes(day))+\n",
        "  theme_unam()"
      ],
      "outputs": [],
      "execution_count": null,
      "metadata": {
        "collapsed": false,
        "outputHidden": false,
        "inputHidden": false
      }
    },
    {
      "cell_type": "code",
      "source": [
        "map <- png::readPNG(\"parkmap.png\")\n",
        "\n",
        "ggplot(datos)+\n",
        "  ggpubr::background_image(map)+\n",
        "  geom_count(aes(x = X, y = desc(Y)), colour = unam_oro)+\n",
        "  coord_cartesian(xlim = c(0.5,9.5), ylim = c(-1,-10))+\n",
        "  theme_unam()"
      ],
      "outputs": [],
      "execution_count": null,
      "metadata": {
        "collapsed": false,
        "outputHidden": false,
        "inputHidden": false
      }
    },
    {
      "cell_type": "code",
      "source": [
        "ggplot(datos)+\n",
        "  ggpubr::background_image(map)+\n",
        "  geom_point(aes(x = X, y = desc(Y), size = area), colour = unam_oro)+\n",
        "  coord_cartesian(xlim = c(0.5,9.5), ylim = c(-1,-10))+\n",
        "  theme_unam()"
      ],
      "outputs": [],
      "execution_count": null,
      "metadata": {
        "collapsed": false,
        "outputHidden": false,
        "inputHidden": false
      }
    },
    {
      "cell_type": "code",
      "source": [
        "# Run in RStudio\n",
        "manipulate({\n",
        "  ggplot(datos)+\n",
        "    ggpubr::background_image(map)+\n",
        "    geom_point(aes_string(x = \"X\", y = desc(\"Y\"), size = variable))+\n",
        "    coord_cartesian(xlim = c(0.5,9.5), ylim = c(-1,-10))+\n",
        "    theme_unam()\n",
        "  }, \n",
        "  variable = picker(\"FFMC\", \"DMC\", \"DC\", \"ISI\", \"temp\", \"RH\", \"wind\", \"rain\", \"area\")\n",
        ")"
      ],
      "outputs": [],
      "execution_count": null,
      "metadata": {
        "collapsed": false,
        "outputHidden": false,
        "inputHidden": false
      }
    },
    {
      "cell_type": "code",
      "source": [
        "# Run in RStudio\n",
        "manipulate({\n",
        "  ggplot(datos)+\n",
        "    geom_point(aes_string(x = \"area\", y = y))+\n",
        "    labs(x = x, y = y)+\n",
        "    theme_unam()\n",
        "},\n",
        "y = picker(\"FFMC\", \"DMC\", \"DC\", \"ISI\", \"temp\", \"RH\", \"wind\", \"rain\")\n",
        ")"
      ],
      "outputs": [],
      "execution_count": null,
      "metadata": {
        "collapsed": false,
        "outputHidden": false,
        "inputHidden": false
      }
    },
    {
      "cell_type": "code",
      "source": [
        "ggplot(datos)+\n",
        "  geom_density(aes(area), colour = unam_azul, fill = unam_azul)+\n",
        "  theme_unam()"
      ],
      "outputs": [],
      "execution_count": null,
      "metadata": {
        "collapsed": false,
        "outputHidden": false,
        "inputHidden": false
      }
    },
    {
      "cell_type": "code",
      "source": [
        "ggplot(datos)+\n",
        "  geom_density(aes(asin(sqrt(area))), colour = unam_oro, fill = unam_oro)+\n",
        "  theme_unam()"
      ],
      "outputs": [],
      "execution_count": null,
      "metadata": {
        "collapsed": false,
        "outputHidden": false,
        "inputHidden": false
      }
    },
    {
      "cell_type": "code",
      "source": [
        "names(datos[,-c(1:4)])[findCorrelation(cor(datos[,-c(1:4)]), cutoff=0.5)]"
      ],
      "outputs": [],
      "execution_count": null,
      "metadata": {
        "collapsed": false,
        "outputHidden": false,
        "inputHidden": false
      }
    },
    {
      "cell_type": "code",
      "source": [
        "datos <- datos %>% \n",
        "  select(-X, -Y, -month, -day)"
      ],
      "outputs": [],
      "execution_count": null,
      "metadata": {
        "collapsed": false,
        "outputHidden": false,
        "inputHidden": false
      }
    },
    {
      "cell_type": "code",
      "source": [
        "names(datos)[findCorrelation(cor(datos), cutoff=0.5)]"
      ],
      "outputs": [],
      "execution_count": null,
      "metadata": {
        "collapsed": false,
        "outputHidden": false,
        "inputHidden": false
      }
    },
    {
      "cell_type": "code",
      "source": [
        "model1 <- lm(area~., data = datos)\n",
        "summary(model1)"
      ],
      "outputs": [],
      "execution_count": null,
      "metadata": {
        "collapsed": false,
        "outputHidden": false,
        "inputHidden": false
      }
    },
    {
      "cell_type": "code",
      "source": [
        "gvlma::gvlma(model1)"
      ],
      "outputs": [],
      "execution_count": null,
      "metadata": {
        "collapsed": false,
        "outputHidden": false,
        "inputHidden": false
      }
    },
    {
      "cell_type": "code",
      "source": [
        "datos <- datos %>% \n",
        "  mutate(area_t = log(ifelse(area == 0, area+0.00001, area)))"
      ],
      "outputs": [],
      "execution_count": null,
      "metadata": {
        "collapsed": false,
        "outputHidden": false,
        "inputHidden": false
      }
    },
    {
      "cell_type": "code",
      "source": [
        "manipulate({\n",
        "  ggplot(datos)+\n",
        "    geom_point(aes(x = x, y = y))+\n",
        "    labs(x = x, y = y)+\n",
        "    theme_unam()\n",
        "},\n",
        "x = picker(\"area\", \"area_t\"),\n",
        "y = picker(\"FFMC\", \"DMC\", \"DC\", \"ISI\", \"temp\", \"RH\", \"wind\", \"rain\")\n",
        ")"
      ],
      "outputs": [],
      "execution_count": null,
      "metadata": {
        "collapsed": false,
        "outputHidden": false,
        "inputHidden": false
      }
    },
    {
      "cell_type": "code",
      "source": [
        "model2 <- lm(area_t~., data = datos)\n",
        "summary(model2)"
      ],
      "outputs": [],
      "execution_count": null,
      "metadata": {
        "collapsed": false,
        "outputHidden": false,
        "inputHidden": false
      }
    }
  ],
  "metadata": {
    "kernel_info": {
      "name": "ir"
    },
    "language_info": {
      "name": "R",
      "codemirror_mode": "r",
      "pygments_lexer": "r",
      "mimetype": "text/x-r-source",
      "file_extension": ".r",
      "version": "3.6.2"
    },
    "kernelspec": {
      "name": "ir",
      "language": "R",
      "display_name": "R"
    },
    "nteract": {
      "version": "0.12.3"
    }
  },
  "nbformat": 4,
  "nbformat_minor": 4
}